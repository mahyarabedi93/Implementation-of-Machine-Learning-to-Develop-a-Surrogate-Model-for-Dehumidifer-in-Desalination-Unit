{
 "cells": [
  {
   "cell_type": "code",
   "execution_count": 82,
   "id": "a6011b8c",
   "metadata": {},
   "outputs": [],
   "source": [
    "import numpy as np\n",
    "import matplotlib.pyplot as plt\n",
    "import seaborn as sns\n",
    "import pandas as pd\n",
    "import time\n",
    "from numpy import linalg as LA\n",
    "import time\n",
    "from sklearn.metrics import mean_absolute_error,mean_squared_error,r2_score\n",
    "\n",
    "from sklearn.model_selection import train_test_split\n",
    "from sklearn import datasets\n",
    "from sklearn.metrics import accuracy_score\n",
    "from sklearn.preprocessing import MinMaxScaler\n",
    "from sklearn.preprocessing import StandardScaler\n",
    "from sklearn.model_selection import learning_curve\n",
    "from sklearn.neural_network import MLPRegressor\n",
    "from sklearn.linear_model import LinearRegression\n",
    "from sklearn.kernel_ridge import  KernelRidge\n",
    "from sklearn.linear_model import  HuberRegressor\n",
    "from sklearn.gaussian_process import GaussianProcessRegressor\n",
    "from sklearn.gaussian_process.kernels import RBF, RationalQuadratic, Matern, ExpSineSquared,DotProduct\n",
    "from sklearn.svm import SVR\n",
    "\n",
    "from yellowbrick.features import ParallelCoordinates"
   ]
  },
  {
   "cell_type": "code",
   "execution_count": 83,
   "id": "bd3a03a3",
   "metadata": {},
   "outputs": [],
   "source": [
    "#Reading Input\n",
    "\n",
    "df1 = pd.read_csv('Input.csv')\n",
    "\n",
    "df1.rename(columns = {'TLI':'InletLiquidTemperature', 'TAI':'InletAirTemperature'\n",
    "                   , 'PI':'InletPressure', 'H':'PackedBedHeight'\n",
    "                   , 'D':'PackedBedDiameter', 'ML':'LiquidMassFlow'\n",
    "                   , 'MA':'AirMassFlow', 'EPS':'PackedBedPorosity'}, inplace = True)\n",
    "\n",
    "X = df1.to_numpy() #Input\n",
    "\n",
    "#Reading Output\n",
    "\n",
    "df2 = pd.read_csv('Output.csv')\n",
    "\n",
    "df2.rename(columns = {'TLO':'OutletLiquidTemperature', 'TAO':'OutletAirTemperature'\n",
    "                   , 'PO':'OutletPressure'}, inplace = True)\n",
    "\n",
    "Y = df2.to_numpy()\n",
    "Y0 = Y[:,0]\n",
    "\n",
    "Y.shape\n",
    "n,m=X.shape\n"
   ]
  },
  {
   "cell_type": "code",
   "execution_count": 88,
   "id": "a14bfcb3",
   "metadata": {},
   "outputs": [
    {
     "name": "stdout",
     "output_type": "stream",
     "text": [
      "0.03989410400390625\n",
      "4.352245206217219\n",
      "0.9393768905157627\n",
      "0.9393768905157627\n"
     ]
    }
   ],
   "source": [
    "from sklearn.multioutput import MultiOutputRegressor\n",
    "# Best linear estimation\n",
    "time_start = time.time()\n",
    "reg = MultiOutputRegressor(LinearRegression()).fit(X, Y)\n",
    "time_elapsed = (time.time()-time_start)\n",
    "print(time_elapsed)\n",
    "Y_Lin_Predict=reg.predict(X)\n",
    "MSE_Lin=mean_squared_error(Y,Y_Lin_Predict)\n",
    "MAE_Lin=mean_absolute_error(Y,Y_Lin_Predict)\n",
    "R2_Lin=r2_score(Y,Y_Lin_Predict)\n",
    "Score_Lin=reg.score(X, Y)\n",
    "print(MSE_Lin)\n",
    "# print(MAE_Lin)\n",
    "print(R2_Lin)\n",
    "print(Score_Lin)"
   ]
  },
  {
   "cell_type": "code",
   "execution_count": 65,
   "id": "551995b8",
   "metadata": {},
   "outputs": [],
   "source": [
    "kernel1 = RBF(10, (1e-3, 1e2))\n",
    "kernel2 = RBF(5 , (1e-3, 1e2))\n",
    "kernel3 = RationalQuadratic(length_scale=1.0, alpha=0.1)\n",
    "kernel4 = Matern(length_scale=1.0, length_scale_bounds=(1e-05, 100000.0), nu=4.5)\n",
    "kernel5 = ExpSineSquared(length_scale=2.0, periodicity=3.0,\n",
    "                         length_scale_bounds=(1e-05, 100000.0),periodicity_bounds=(1e-05, 100000.0))\n",
    "kernel6 = DotProduct()\n",
    "\n",
    "gpr1 = GaussianProcessRegressor(kernel=kernel1, n_restarts_optimizer=1000,alpha=.1)\n",
    "gpr2 = GaussianProcessRegressor(kernel=kernel2, n_restarts_optimizer=1000,alpha=.1)\n",
    "gpr3 = GaussianProcessRegressor(kernel=kernel3, n_restarts_optimizer=1000,alpha=.1)\n",
    "gpr4 = GaussianProcessRegressor(kernel=kernel4, n_restarts_optimizer=1000,alpha=.1)\n",
    "gpr5 = GaussianProcessRegressor(kernel=kernel5, n_restarts_optimizer=1000,alpha=.1)\n",
    "gpr6 = GaussianProcessRegressor(kernel=kernel6, n_restarts_optimizer=1000,alpha=.1)"
   ]
  },
  {
   "cell_type": "code",
   "execution_count": 66,
   "id": "6d825551",
   "metadata": {},
   "outputs": [],
   "source": [
    "X_train, X_test, Y_train, Y_test = train_test_split(X, Y, test_size=0.2)"
   ]
  },
  {
   "cell_type": "code",
   "execution_count": 67,
   "id": "999e4072",
   "metadata": {},
   "outputs": [],
   "source": [
    "scaler = MinMaxScaler()\n",
    "X_train_scaled = scaler.fit_transform(X_train)\n",
    "X_test_scaled  = scaler.transform(X_test)\n",
    "Y0_train = Y_train[:,0]\n",
    "Y1_train = Y_train[:,1]\n",
    "Y0_test = Y_test[:,0]\n",
    "Y1_test = Y_test[:,1]"
   ]
  },
  {
   "cell_type": "code",
   "execution_count": 10,
   "id": "7c76aeb0",
   "metadata": {},
   "outputs": [],
   "source": [
    "my_stand_scaler_obj = StandardScaler()\n",
    "my_stand_scaler_obj.fit(X_train)\n",
    "\n",
    "# rescale the training data\n",
    "X_stand_scaler = my_stand_scaler_obj.transform(X)\n",
    "\n",
    "# rescale the training data\n",
    "X_train_stand_scaler = my_stand_scaler_obj.transform(X_train)\n",
    "\n",
    "# also, rescale the training data\n",
    "X_test_stand_scaler = my_stand_scaler_obj.transform(X_test)\n",
    "\n",
    "\n",
    "print(my_stand_scaler_obj.mean_)"
   ]
  },
  {
   "cell_type": "code",
   "execution_count": 68,
   "id": "b732932d",
   "metadata": {},
   "outputs": [
    {
     "ename": "NameError",
     "evalue": "name 'X_stand_scaler' is not defined",
     "output_type": "error",
     "traceback": [
      "\u001b[1;31m---------------------------------------------------------------------------\u001b[0m",
      "\u001b[1;31mNameError\u001b[0m                                 Traceback (most recent call last)",
      "\u001b[1;32m~\\AppData\\Local\\Temp/ipykernel_19572/426415040.py\u001b[0m in \u001b[0;36m<module>\u001b[1;34m\u001b[0m\n\u001b[0;32m      1\u001b[0m train_sizes, train_scores, test_scores = learning_curve(gpr1,\n\u001b[1;32m----> 2\u001b[1;33m                                                         \u001b[0mX_stand_scaler\u001b[0m\u001b[1;33m,\u001b[0m \u001b[0mY0\u001b[0m\u001b[1;33m,\u001b[0m\u001b[1;33m\u001b[0m\u001b[1;33m\u001b[0m\u001b[0m\n\u001b[0m\u001b[0;32m      3\u001b[0m                                                         \u001b[0mcv\u001b[0m \u001b[1;33m=\u001b[0m \u001b[1;36m10\u001b[0m\u001b[1;33m,\u001b[0m\u001b[1;33m\u001b[0m\u001b[1;33m\u001b[0m\u001b[0m\n\u001b[0;32m      4\u001b[0m                                                         \u001b[0mscoring\u001b[0m\u001b[1;33m=\u001b[0m\u001b[1;34m\"neg_mean_squared_error\"\u001b[0m\u001b[1;33m,\u001b[0m\u001b[1;33m\u001b[0m\u001b[1;33m\u001b[0m\u001b[0m\n\u001b[0;32m      5\u001b[0m                                                         train_sizes = np.linspace(0.1, 0.9, 16))\n",
      "\u001b[1;31mNameError\u001b[0m: name 'X_stand_scaler' is not defined"
     ]
    }
   ],
   "source": [
    "train_sizes, train_scores, test_scores = learning_curve(gpr1,\n",
    "                                                        X_stand_scaler, Y0,\n",
    "                                                        cv = 10,\n",
    "                                                        scoring=\"neg_mean_squared_error\", \n",
    "                                                        train_sizes = np.linspace(0.1, 0.9, 16))\n",
    "\n",
    "# Means and standard deviations of training set scores\n",
    "train_mean1 = np.mean(train_scores, axis=1)\n",
    "# Means and standard deviations of test set scores\n",
    "test_mean1 = np.mean(test_scores, axis=1)"
   ]
  },
  {
   "cell_type": "code",
   "execution_count": 63,
   "id": "b2e41ece",
   "metadata": {},
   "outputs": [
    {
     "data": {
      "text/plain": [
       "array([-6.77958391, -4.9778832 , -3.58576955, -2.46430201, -1.27962372,\n",
       "       -1.10091842, -1.12537764, -1.06780471, -0.99226753, -0.35626691,\n",
       "       -0.22682411, -0.22747015, -0.2144828 , -0.19163245, -0.17863533,\n",
       "       -0.17119058])"
      ]
     },
     "execution_count": 63,
     "metadata": {},
     "output_type": "execute_result"
    }
   ],
   "source": [
    "test_mean1"
   ]
  },
  {
   "cell_type": "code",
   "execution_count": 24,
   "id": "0032786e",
   "metadata": {},
   "outputs": [
    {
     "ename": "NameError",
     "evalue": "name 'X_stand_scaler' is not defined",
     "output_type": "error",
     "traceback": [
      "\u001b[1;31m---------------------------------------------------------------------------\u001b[0m",
      "\u001b[1;31mNameError\u001b[0m                                 Traceback (most recent call last)",
      "\u001b[1;32m~\\AppData\\Local\\Temp/ipykernel_19572/3526227903.py\u001b[0m in \u001b[0;36m<module>\u001b[1;34m\u001b[0m\n\u001b[0;32m      1\u001b[0m train_sizes, train_scores, test_scores = learning_curve(gpr1,\n\u001b[1;32m----> 2\u001b[1;33m                                                         \u001b[0mX_stand_scaler\u001b[0m\u001b[1;33m,\u001b[0m \u001b[0mY\u001b[0m\u001b[1;33m,\u001b[0m\u001b[1;33m\u001b[0m\u001b[1;33m\u001b[0m\u001b[0m\n\u001b[0m\u001b[0;32m      3\u001b[0m                                                         \u001b[0mcv\u001b[0m \u001b[1;33m=\u001b[0m \u001b[1;36m10\u001b[0m\u001b[1;33m,\u001b[0m\u001b[1;33m\u001b[0m\u001b[1;33m\u001b[0m\u001b[0m\n\u001b[0;32m      4\u001b[0m                                                         \u001b[0mscoring\u001b[0m\u001b[1;33m=\u001b[0m\u001b[1;34m\"r2\"\u001b[0m\u001b[1;33m,\u001b[0m\u001b[1;33m\u001b[0m\u001b[1;33m\u001b[0m\u001b[0m\n\u001b[0;32m      5\u001b[0m                                                         train_sizes = np.linspace(0.1, 0.9, 16))\n",
      "\u001b[1;31mNameError\u001b[0m: name 'X_stand_scaler' is not defined"
     ]
    }
   ],
   "source": [
    "train_sizes, train_scores, test_scores = learning_curve(gpr1,\n",
    "                                                        X_stand_scaler, Y,\n",
    "                                                        cv = 10,\n",
    "                                                        scoring=\"r2\",\n",
    "                                                        train_sizes = np.linspace(0.1, 0.9, 16))\n",
    "\n",
    "# Means and standard deviations of training set scores\n",
    "train_mean2 = np.mean(train_scores, axis=1)\n",
    "# Means and standard deviations of test set scores\n",
    "test_mean2 = np.mean(test_scores, axis=1)"
   ]
  },
  {
   "cell_type": "code",
   "execution_count": 72,
   "id": "0e785ca6",
   "metadata": {},
   "outputs": [
    {
     "name": "stderr",
     "output_type": "stream",
     "text": [
      "C:\\ProgramData\\Anaconda3\\lib\\site-packages\\sklearn\\gaussian_process\\_gpr.py:610: ConvergenceWarning: lbfgs failed to converge (status=2):\n",
      "ABNORMAL_TERMINATION_IN_LNSRCH.\n",
      "\n",
      "Increase the number of iterations (max_iter) or scale the data as shown in:\n",
      "    https://scikit-learn.org/stable/modules/preprocessing.html\n",
      "  _check_optimize_result(\"lbfgs\", opt_res)\n",
      "C:\\ProgramData\\Anaconda3\\lib\\site-packages\\sklearn\\gaussian_process\\_gpr.py:610: ConvergenceWarning: lbfgs failed to converge (status=2):\n",
      "ABNORMAL_TERMINATION_IN_LNSRCH.\n",
      "\n",
      "Increase the number of iterations (max_iter) or scale the data as shown in:\n",
      "    https://scikit-learn.org/stable/modules/preprocessing.html\n",
      "  _check_optimize_result(\"lbfgs\", opt_res)\n",
      "C:\\ProgramData\\Anaconda3\\lib\\site-packages\\sklearn\\gaussian_process\\kernels.py:430: ConvergenceWarning: The optimal value found for dimension 0 of parameter length_scale is close to the specified upper bound 100.0. Increasing the bound and calling fit again may find a better value.\n",
      "  warnings.warn(\n"
     ]
    },
    {
     "data": {
      "text/plain": [
       "-488.9147320610609"
      ]
     },
     "execution_count": 72,
     "metadata": {},
     "output_type": "execute_result"
    }
   ],
   "source": [
    "gpr1 = MultiOutputRegressor(GaussianProcessRegressor(kernel=kernel1, n_restarts_optimizer=1000,alpha=.1))\n",
    "gpr1.fit(X_train_scaled, Y_train)\n",
    "gpr1.score(X_train_scaled, Y_train)\n",
    "gpr1.score(X_test_scaled, Y_test)\n"
   ]
  },
  {
   "cell_type": "code",
   "execution_count": null,
   "id": "12b75b84",
   "metadata": {},
   "outputs": [],
   "source": [
    "gpr1 = MultiOutputRegressor(GaussianProcessRegressor(kernel=kernel1, n_restarts_optimizer=1000,alpha=.1))\n",
    "gpr1.fit(X_train_scaled, Y_train)\n",
    "gpr1.score(X_train_scaled, Y_train)\n",
    "gpr1.score(X_test_scaled, Y_test)\n"
   ]
  },
  {
   "cell_type": "code",
   "execution_count": null,
   "id": "9878d42c",
   "metadata": {},
   "outputs": [],
   "source": [
    "gpr1 = MultiOutputRegressor(GaussianProcessRegressor(kernel=kernel4, n_restarts_optimizer=1000,alpha=.1))\n",
    "gpr1.fit(X_train_scaled, Y_train)\n",
    "gpr2=gpr1.score(X_train_scaled, Y_train)\n",
    "gpr3=gpr1.score(X_test_scaled, Y_test)"
   ]
  },
  {
   "cell_type": "code",
   "execution_count": null,
   "id": "739efb66",
   "metadata": {},
   "outputs": [],
   "source": [
    "gpr1 = MultiOutputRegressor(GaussianProcessRegressor(kernel=kernel5, n_restarts_optimizer=1000,alpha=.1))\n",
    "gpr1.fit(X_train_scaled, Y_train)\n",
    "gpr2=gpr1.score(X_train_scaled, Y_train)\n",
    "print(gpr2)\n",
    "gpr3=gpr1.score(X_test_scaled, Y_test)\n",
    "print(gpr3)"
   ]
  },
  {
   "cell_type": "code",
   "execution_count": null,
   "id": "3b85156f",
   "metadata": {},
   "outputs": [],
   "source": [
    "gpr1 = MultiOutputRegressor(GaussianProcessRegressor(kernel=kernel6, n_restarts_optimizer=1000,alpha=.1))\n",
    "gpr1.fit(X_train_scaled, Y_train)\n",
    "gpr2=gpr1.score(X_train_scaled, Y_train)\n",
    "print(gpr2)\n",
    "gpr3=gpr1.score(X_test_scaled, Y_test)\n",
    "print(gpr3)"
   ]
  },
  {
   "cell_type": "code",
   "execution_count": 74,
   "id": "0a60596a",
   "metadata": {},
   "outputs": [
    {
     "ename": "ValueError",
     "evalue": "y_true and y_pred have different number of output (3!=1)",
     "output_type": "error",
     "traceback": [
      "\u001b[1;31m---------------------------------------------------------------------------\u001b[0m",
      "\u001b[1;31mValueError\u001b[0m                                Traceback (most recent call last)",
      "\u001b[1;32m~\\AppData\\Local\\Temp/ipykernel_24316/2903886966.py\u001b[0m in \u001b[0;36m<module>\u001b[1;34m\u001b[0m\n\u001b[0;32m      2\u001b[0m \u001b[1;33m\u001b[0m\u001b[0m\n\u001b[0;32m      3\u001b[0m \u001b[0mY_GPR_Predict\u001b[0m\u001b[1;33m=\u001b[0m\u001b[0mgpr1\u001b[0m\u001b[1;33m.\u001b[0m\u001b[0mpredict\u001b[0m\u001b[1;33m(\u001b[0m\u001b[0mX_test_scaled\u001b[0m\u001b[1;33m)\u001b[0m\u001b[1;33m\u001b[0m\u001b[1;33m\u001b[0m\u001b[0m\n\u001b[1;32m----> 4\u001b[1;33m \u001b[0mMSE_GPR\u001b[0m\u001b[1;33m=\u001b[0m\u001b[0mmean_squared_error\u001b[0m\u001b[1;33m(\u001b[0m\u001b[0mY_test\u001b[0m\u001b[1;33m,\u001b[0m\u001b[0mY_GPR_Predict\u001b[0m\u001b[1;33m)\u001b[0m\u001b[1;33m\u001b[0m\u001b[1;33m\u001b[0m\u001b[0m\n\u001b[0m\u001b[0;32m      5\u001b[0m \u001b[0mprint\u001b[0m\u001b[1;33m(\u001b[0m\u001b[0mMSE_GPR\u001b[0m\u001b[1;33m)\u001b[0m\u001b[1;33m\u001b[0m\u001b[1;33m\u001b[0m\u001b[0m\n",
      "\u001b[1;32mC:\\ProgramData\\Anaconda3\\lib\\site-packages\\sklearn\\metrics\\_regression.py\u001b[0m in \u001b[0;36mmean_squared_error\u001b[1;34m(y_true, y_pred, sample_weight, multioutput, squared)\u001b[0m\n\u001b[0;32m    436\u001b[0m     \u001b[1;36m0.825\u001b[0m\u001b[1;33m...\u001b[0m\u001b[1;33m\u001b[0m\u001b[1;33m\u001b[0m\u001b[0m\n\u001b[0;32m    437\u001b[0m     \"\"\"\n\u001b[1;32m--> 438\u001b[1;33m     y_type, y_true, y_pred, multioutput = _check_reg_targets(\n\u001b[0m\u001b[0;32m    439\u001b[0m         \u001b[0my_true\u001b[0m\u001b[1;33m,\u001b[0m \u001b[0my_pred\u001b[0m\u001b[1;33m,\u001b[0m \u001b[0mmultioutput\u001b[0m\u001b[1;33m\u001b[0m\u001b[1;33m\u001b[0m\u001b[0m\n\u001b[0;32m    440\u001b[0m     )\n",
      "\u001b[1;32mC:\\ProgramData\\Anaconda3\\lib\\site-packages\\sklearn\\metrics\\_regression.py\u001b[0m in \u001b[0;36m_check_reg_targets\u001b[1;34m(y_true, y_pred, multioutput, dtype)\u001b[0m\n\u001b[0;32m    103\u001b[0m \u001b[1;33m\u001b[0m\u001b[0m\n\u001b[0;32m    104\u001b[0m     \u001b[1;32mif\u001b[0m \u001b[0my_true\u001b[0m\u001b[1;33m.\u001b[0m\u001b[0mshape\u001b[0m\u001b[1;33m[\u001b[0m\u001b[1;36m1\u001b[0m\u001b[1;33m]\u001b[0m \u001b[1;33m!=\u001b[0m \u001b[0my_pred\u001b[0m\u001b[1;33m.\u001b[0m\u001b[0mshape\u001b[0m\u001b[1;33m[\u001b[0m\u001b[1;36m1\u001b[0m\u001b[1;33m]\u001b[0m\u001b[1;33m:\u001b[0m\u001b[1;33m\u001b[0m\u001b[1;33m\u001b[0m\u001b[0m\n\u001b[1;32m--> 105\u001b[1;33m         raise ValueError(\n\u001b[0m\u001b[0;32m    106\u001b[0m             \"y_true and y_pred have different number of output ({0}!={1})\".format(\n\u001b[0;32m    107\u001b[0m                 \u001b[0my_true\u001b[0m\u001b[1;33m.\u001b[0m\u001b[0mshape\u001b[0m\u001b[1;33m[\u001b[0m\u001b[1;36m1\u001b[0m\u001b[1;33m]\u001b[0m\u001b[1;33m,\u001b[0m \u001b[0my_pred\u001b[0m\u001b[1;33m.\u001b[0m\u001b[0mshape\u001b[0m\u001b[1;33m[\u001b[0m\u001b[1;36m1\u001b[0m\u001b[1;33m]\u001b[0m\u001b[1;33m\u001b[0m\u001b[1;33m\u001b[0m\u001b[0m\n",
      "\u001b[1;31mValueError\u001b[0m: y_true and y_pred have different number of output (3!=1)"
     ]
    }
   ],
   "source": [
    "\n",
    "\n",
    "Y_GPR_Predict=gpr1.predict(X_test_scaled)\n",
    "MSE_GPR=mean_squared_error(Y_test,Y_GPR_Predict)\n",
    "MAE_GPR=mean_absolute_error(Y_test,Y_GPR_Predict)\n",
    "R2_GPR=mean_absolute_error(Y_test,Y_GPR_Predict)\n",
    "Score_GPR=gpr1.score(X_test_scaled,Y_test)\n",
    "\n",
    "print(MSE_GPR)"
   ]
  },
  {
   "cell_type": "code",
   "execution_count": null,
   "id": "44bb7d04",
   "metadata": {},
   "outputs": [],
   "source": []
  },
  {
   "cell_type": "code",
   "execution_count": null,
   "id": "85f017d2",
   "metadata": {},
   "outputs": [],
   "source": []
  },
  {
   "cell_type": "code",
   "execution_count": null,
   "id": "866d7d13",
   "metadata": {},
   "outputs": [],
   "source": []
  },
  {
   "cell_type": "code",
   "execution_count": null,
   "id": "bed3baf0",
   "metadata": {},
   "outputs": [],
   "source": []
  },
  {
   "cell_type": "code",
   "execution_count": null,
   "id": "660a3baa",
   "metadata": {},
   "outputs": [],
   "source": []
  },
  {
   "cell_type": "code",
   "execution_count": null,
   "id": "03b32ea6",
   "metadata": {},
   "outputs": [],
   "source": []
  },
  {
   "cell_type": "code",
   "execution_count": null,
   "id": "23040514",
   "metadata": {},
   "outputs": [],
   "source": []
  },
  {
   "cell_type": "code",
   "execution_count": null,
   "id": "ccfdb71a",
   "metadata": {},
   "outputs": [],
   "source": []
  },
  {
   "cell_type": "code",
   "execution_count": null,
   "id": "032aa802",
   "metadata": {},
   "outputs": [],
   "source": []
  },
  {
   "cell_type": "code",
   "execution_count": null,
   "id": "cbfa35d8",
   "metadata": {},
   "outputs": [],
   "source": []
  },
  {
   "cell_type": "code",
   "execution_count": null,
   "id": "57e14349",
   "metadata": {},
   "outputs": [],
   "source": []
  }
 ],
 "metadata": {
  "kernelspec": {
   "display_name": "Python 3 (ipykernel)",
   "language": "python",
   "name": "python3"
  },
  "language_info": {
   "codemirror_mode": {
    "name": "ipython",
    "version": 3
   },
   "file_extension": ".py",
   "mimetype": "text/x-python",
   "name": "python",
   "nbconvert_exporter": "python",
   "pygments_lexer": "ipython3",
   "version": "3.9.7"
  }
 },
 "nbformat": 4,
 "nbformat_minor": 5
}
