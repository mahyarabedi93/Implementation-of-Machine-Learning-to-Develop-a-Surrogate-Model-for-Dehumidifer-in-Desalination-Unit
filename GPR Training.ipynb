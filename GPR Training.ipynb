{
 "cells": [
  {
   "cell_type": "code",
   "execution_count": null,
   "id": "a6011b8c",
   "metadata": {},
   "outputs": [],
   "source": [
    "import numpy as np\n",
    "import matplotlib.pyplot as plt\n",
    "import seaborn as sns\n",
    "import pandas as pd\n",
    "import time\n",
    "from numpy import linalg as LA\n",
    "import time\n",
    "from sklearn.metrics import mean_absolute_error,mean_squared_error,r2_score\n",
    "\n",
    "from sklearn.model_selection import train_test_split\n",
    "from sklearn import datasets\n",
    "from sklearn.metrics import accuracy_score\n",
    "from sklearn.preprocessing import MinMaxScaler\n",
    "from sklearn.preprocessing import StandardScaler\n",
    "from sklearn.model_selection import learning_curve\n",
    "from sklearn.neural_network import MLPRegressor\n",
    "from sklearn.linear_model import LinearRegression\n",
    "from sklearn.kernel_ridge import  KernelRidge\n",
    "from sklearn.linear_model import  HuberRegressor\n",
    "from sklearn.gaussian_process import GaussianProcessRegressor\n",
    "from sklearn.gaussian_process.kernels import RBF, RationalQuadratic, Matern, ExpSineSquared,DotProduct\n",
    "from sklearn.svm import SVR\n",
    "\n",
    "from yellowbrick.features import ParallelCoordinates"
   ]
  },
  {
   "cell_type": "code",
   "execution_count": null,
   "id": "bd3a03a3",
   "metadata": {},
   "outputs": [],
   "source": [
    "#Reading Input\n",
    "\n",
    "df1 = pd.read_csv('Input.csv')\n",
    "\n",
    "df1.rename(columns = {'TLI':'InletLiquidTemperature', 'TAI':'InletAirTemperature'\n",
    "                   , 'PI':'InletPressure', 'H':'PackedBedHeight'\n",
    "                   , 'D':'PackedBedDiameter', 'ML':'LiquidMassFlow'\n",
    "                   , 'MA':'AirMassFlow', 'EPS':'PackedBedPorosity'}, inplace = True)\n",
    "\n",
    "X = df1.to_numpy() #Input\n",
    "\n",
    "#Reading Output\n",
    "\n",
    "df2 = pd.read_csv('Output.csv')\n",
    "\n",
    "df2.rename(columns = {'TLO':'OutletLiquidTemperature', 'TAO':'OutletAirTemperature'\n",
    "                   , 'PO':'OutletPressure'}, inplace = True)\n",
    "\n",
    "Y = df2.to_numpy()\n",
    "Y0 = Y[:,0]\n",
    "\n",
    "Y.shape\n",
    "n,m=X.shape\n"
   ]
  },
  {
   "cell_type": "code",
   "execution_count": null,
   "id": "a14bfcb3",
   "metadata": {},
   "outputs": [],
   "source": [
    "from sklearn.multioutput import MultiOutputRegressor\n",
    "# Best linear estimation\n",
    "time_start = time.time()\n",
    "reg = MultiOutputRegressor(LinearRegression()).fit(X, Y)\n",
    "time_elapsed = (time.time()-time_start)\n",
    "print(time_elapsed)\n",
    "Y_Lin_Predict=reg.predict(X)\n",
    "MSE_Lin=mean_squared_error(Y,Y_Lin_Predict)\n",
    "MAE_Lin=mean_absolute_error(Y,Y_Lin_Predict)\n",
    "R2_Lin=r2_score(Y,Y_Lin_Predict)\n",
    "Score_Lin=reg.score(X, Y)\n",
    "print(MSE_Lin)\n",
    "# print(MAE_Lin)\n",
    "print(R2_Lin)\n",
    "print(Score_Lin)"
   ]
  },
  {
   "cell_type": "code",
   "execution_count": null,
   "id": "551995b8",
   "metadata": {},
   "outputs": [],
   "source": [
    "kernel1 = RBF(10, (1e-3, 1e2))\n",
    "kernel2 = RBF(5 , (1e-3, 1e2))\n",
    "kernel3 = RationalQuadratic(length_scale=1.0, alpha=0.1)\n",
    "kernel4 = Matern(length_scale=1.0, length_scale_bounds=(1e-05, 100000.0), nu=4.5)\n",
    "kernel5 = ExpSineSquared(length_scale=2.0, periodicity=3.0,\n",
    "                         length_scale_bounds=(1e-05, 100000.0),periodicity_bounds=(1e-05, 100000.0))\n",
    "kernel6 = DotProduct()\n",
    "\n",
    "gpr1 = GaussianProcessRegressor(kernel=kernel1, n_restarts_optimizer=10000,alpha=.1)\n",
    "gpr2 = GaussianProcessRegressor(kernel=kernel2, n_restarts_optimizer=10000,alpha=.1)\n",
    "gpr3 = GaussianProcessRegressor(kernel=kernel3, n_restarts_optimizer=10000,alpha=.1)\n",
    "gpr4 = GaussianProcessRegressor(kernel=kernel4, n_restarts_optimizer=10000,alpha=.1)\n",
    "gpr5 = GaussianProcessRegressor(kernel=kernel5, n_restarts_optimizer=10000,alpha=.1)\n",
    "gpr6 = GaussianProcessRegressor(kernel=kernel6, n_restarts_optimizer=10000,alpha=.1)"
   ]
  },
  {
   "cell_type": "code",
   "execution_count": null,
   "id": "6d825551",
   "metadata": {},
   "outputs": [],
   "source": [
    "X_train, X_test, Y_train, Y_test = train_test_split(X, Y, test_size=0.2)"
   ]
  },
  {
   "cell_type": "code",
   "execution_count": null,
   "id": "999e4072",
   "metadata": {},
   "outputs": [],
   "source": [
    "scaler = MinMaxScaler()\n",
    "X_train_scaled = scaler.fit_transform(X_train)\n",
    "X_test_scaled  = scaler.transform(X_test)\n",
    "Y0_train = Y_train[:,0]\n",
    "Y1_train = Y_train[:,1]\n",
    "Y0_test = Y_test[:,0]\n",
    "Y1_test = Y_test[:,1]"
   ]
  },
  {
   "cell_type": "code",
   "execution_count": null,
   "id": "7c76aeb0",
   "metadata": {},
   "outputs": [],
   "source": [
    "my_stand_scaler_obj = StandardScaler()\n",
    "my_stand_scaler_obj.fit(X_train)\n",
    "\n",
    "# rescale the training data\n",
    "X_stand_scaler = my_stand_scaler_obj.transform(X)\n",
    "\n",
    "# rescale the training data\n",
    "X_train_stand_scaler = my_stand_scaler_obj.transform(X_train)\n",
    "\n",
    "# also, rescale the training data\n",
    "X_test_stand_scaler = my_stand_scaler_obj.transform(X_test)\n",
    "\n",
    "\n",
    "print(my_stand_scaler_obj.mean_)"
   ]
  },
  {
   "cell_type": "code",
   "execution_count": null,
   "id": "b732932d",
   "metadata": {},
   "outputs": [],
   "source": [
    "train_sizes, train_scores, test_scores = learning_curve(gpr1,\n",
    "                                                        X_stand_scaler, Y0,\n",
    "                                                        cv = 10,\n",
    "                                                        scoring=\"neg_mean_squared_error\", \n",
    "                                                        train_sizes = np.linspace(0.1, 0.9, 16))\n",
    "\n",
    "# Means and standard deviations of training set scores\n",
    "train_mean1 = np.mean(train_scores, axis=1)\n",
    "# Means and standard deviations of test set scores\n",
    "test_mean1 = np.mean(test_scores, axis=1)"
   ]
  },
  {
   "cell_type": "code",
   "execution_count": null,
   "id": "b2e41ece",
   "metadata": {},
   "outputs": [],
   "source": [
    "test_mean1"
   ]
  },
  {
   "cell_type": "code",
   "execution_count": null,
   "id": "0032786e",
   "metadata": {},
   "outputs": [],
   "source": [
    "train_sizes, train_scores, test_scores = learning_curve(gpr1,\n",
    "                                                        X_stand_scaler, Y,\n",
    "                                                        cv = 10,\n",
    "                                                        scoring=\"r2\",\n",
    "                                                        train_sizes = np.linspace(0.1, 0.9, 16))\n",
    "\n",
    "# Means and standard deviations of training set scores\n",
    "train_mean2 = np.mean(train_scores, axis=1)\n",
    "# Means and standard deviations of test set scores\n",
    "test_mean2 = np.mean(test_scores, axis=1)"
   ]
  },
  {
   "cell_type": "code",
   "execution_count": null,
   "id": "0e785ca6",
   "metadata": {},
   "outputs": [],
   "source": [
    "gpr1 = MultiOutputRegressor(GaussianProcessRegressor(kernel=kernel1, n_restarts_optimizer=10000,alpha=.1))\n",
    "gpr1.fit(X_train_scaled, Y_train)\n",
    "#gpr1.score(X_train_scaled, Y_train)\n",
    "gpr1.score(X_test_scaled, Y_test)\n"
   ]
  },
  {
   "cell_type": "code",
   "execution_count": null,
   "id": "12b75b84",
   "metadata": {},
   "outputs": [],
   "source": [
    "gpr2 = MultiOutputRegressor(GaussianProcessRegressor(kernel=kernel2, n_restarts_optimizer=10000,alpha=.1))\n",
    "gpr2.fit(X_train_scaled, Y_train)\n",
    "#gpr2.score(X_train_scaled, Y_train)\n",
    "gpr2.score(X_test_scaled, Y_test)\n"
   ]
  },
  {
   "cell_type": "code",
   "execution_count": null,
   "id": "adad00ce",
   "metadata": {},
   "outputs": [],
   "source": [
    "gpr3 = MultiOutputRegressor(GaussianProcessRegressor(kernel=kernel3, n_restarts_optimizer=10000,alpha=.1))\n",
    "gpr3.fit(X_train_scaled, Y_train)\n",
    "#gpr3.score(X_train_scaled, Y_train)\n",
    "gpr3.score(X_test_scaled, Y_test)"
   ]
  },
  {
   "cell_type": "code",
   "execution_count": null,
   "id": "9878d42c",
   "metadata": {},
   "outputs": [],
   "source": [
    "gpr4 = MultiOutputRegressor(GaussianProcessRegressor(kernel=kernel4, n_restarts_optimizer=10000,alpha=.1))\n",
    "gpr4.fit(X_train_scaled, Y_train)\n",
    "#gpr4.score(X_train_scaled, Y_train)\n",
    "gpr4.score(X_test_scaled, Y_test)"
   ]
  },
  {
   "cell_type": "code",
   "execution_count": null,
   "id": "739efb66",
   "metadata": {},
   "outputs": [],
   "source": [
    "gpr5 = MultiOutputRegressor(GaussianProcessRegressor(kernel=kernel5, n_restarts_optimizer=10000,alpha=.1))\n",
    "gpr5.fit(X_train_scaled, Y_train)\n",
    "#gpr5.score(X_train_scaled, Y_train)\n",
    "gpr5.score(X_test_scaled, Y_test)"
   ]
  },
  {
   "cell_type": "code",
   "execution_count": null,
   "id": "3b85156f",
   "metadata": {},
   "outputs": [],
   "source": [
    "gpr6 = MultiOutputRegressor(GaussianProcessRegressor(kernel=kernel6, n_restarts_optimizer=10000,alpha=.1))\n",
    "gpr6.fit(X_train_scaled, Y_train)\n",
    "#gpr6.score(X_train_scaled, Y_train)\n",
    "gpr6.score(X_test_scaled, Y_test)"
   ]
  }
 ],
 "metadata": {
  "kernelspec": {
   "display_name": "Python 3 (ipykernel)",
   "language": "python",
   "name": "python3"
  },
  "language_info": {
   "codemirror_mode": {
    "name": "ipython",
    "version": 3
   },
   "file_extension": ".py",
   "mimetype": "text/x-python",
   "name": "python",
   "nbconvert_exporter": "python",
   "pygments_lexer": "ipython3",
   "version": "3.9.12"
  }
 },
 "nbformat": 4,
 "nbformat_minor": 5
}
